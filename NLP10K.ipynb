{
 "cells": [
  {
   "cell_type": "code",
   "execution_count": 4,
   "metadata": {},
   "outputs": [
    {
     "name": "stdout",
     "output_type": "stream",
     "text": [
      "Collecting alphalens==0.3.2\n",
      "  Using cached alphalens-0.3.2-py3-none-any.whl\n",
      "Collecting nltk==3.8.0\n",
      "  Downloading nltk-3.8-py3-none-any.whl (1.5 MB)\n",
      "Collecting numpy==1.24.0\n",
      "  Using cached numpy-1.24.0-cp39-cp39-win_amd64.whl (14.9 MB)\n",
      "Collecting ratelimit==2.2.1\n",
      "  Downloading ratelimit-2.2.1.tar.gz (5.3 kB)\n",
      "Collecting requests==2.28.1\n",
      "  Downloading requests-2.28.1-py3-none-any.whl (62 kB)\n",
      "Collecting scikit-learn==1.2\n",
      "  Downloading scikit_learn-1.2.0-cp39-cp39-win_amd64.whl (8.3 MB)\n",
      "Collecting six==1.16.0\n",
      "  Downloading six-1.16.0-py2.py3-none-any.whl (11 kB)\n",
      "Collecting tqdm==4.64.1\n",
      "  Downloading tqdm-4.64.1-py2.py3-none-any.whl (78 kB)\n",
      "Collecting scipy>=0.14.0\n",
      "  Using cached scipy-1.9.3-cp39-cp39-win_amd64.whl (40.2 MB)\n",
      "Collecting matplotlib>=1.4.0\n",
      "  Using cached matplotlib-3.6.2-cp39-cp39-win_amd64.whl (7.2 MB)\n",
      "Collecting pandas>=0.18.0\n",
      "  Using cached pandas-1.5.2-cp39-cp39-win_amd64.whl (10.9 MB)\n",
      "Collecting seaborn>=0.6.0\n",
      "  Using cached seaborn-0.12.1-py3-none-any.whl (288 kB)\n",
      "Collecting statsmodels>=0.6.1\n",
      "  Using cached statsmodels-0.13.5-cp39-cp39-win_amd64.whl (9.2 MB)\n",
      "Requirement already satisfied: IPython>=3.2.3 in c:\\users\\mrhea\\miniconda3\\lib\\site-packages (from alphalens==0.3.2->-r requirements.txt (line 1)) (8.7.0)\n",
      "Collecting regex>=2021.8.3\n",
      "  Downloading regex-2022.10.31-cp39-cp39-win_amd64.whl (267 kB)\n",
      "Collecting click\n",
      "  Downloading click-8.1.3-py3-none-any.whl (96 kB)\n",
      "Collecting joblib\n",
      "  Downloading joblib-1.2.0-py3-none-any.whl (297 kB)\n",
      "Requirement already satisfied: charset-normalizer<3,>=2 in c:\\users\\mrhea\\miniconda3\\lib\\site-packages (from requests==2.28.1->-r requirements.txt (line 5)) (2.0.4)\n",
      "Requirement already satisfied: certifi>=2017.4.17 in c:\\users\\mrhea\\miniconda3\\lib\\site-packages (from requests==2.28.1->-r requirements.txt (line 5)) (2022.12.7)\n",
      "Requirement already satisfied: idna<4,>=2.5 in c:\\users\\mrhea\\miniconda3\\lib\\site-packages (from requests==2.28.1->-r requirements.txt (line 5)) (3.3)\n",
      "Requirement already satisfied: urllib3<1.27,>=1.21.1 in c:\\users\\mrhea\\miniconda3\\lib\\site-packages (from requests==2.28.1->-r requirements.txt (line 5)) (1.26.8)\n",
      "Collecting threadpoolctl>=2.0.0\n",
      "  Downloading threadpoolctl-3.1.0-py3-none-any.whl (14 kB)\n",
      "Requirement already satisfied: colorama in c:\\users\\mrhea\\miniconda3\\lib\\site-packages (from tqdm==4.64.1->-r requirements.txt (line 8)) (0.4.4)\n",
      "Requirement already satisfied: backcall in c:\\users\\mrhea\\miniconda3\\lib\\site-packages (from IPython>=3.2.3->alphalens==0.3.2->-r requirements.txt (line 1)) (0.2.0)\n",
      "Requirement already satisfied: stack-data in c:\\users\\mrhea\\miniconda3\\lib\\site-packages (from IPython>=3.2.3->alphalens==0.3.2->-r requirements.txt (line 1)) (0.6.2)\n",
      "Requirement already satisfied: jedi>=0.16 in c:\\users\\mrhea\\miniconda3\\lib\\site-packages (from IPython>=3.2.3->alphalens==0.3.2->-r requirements.txt (line 1)) (0.18.2)\n",
      "Requirement already satisfied: matplotlib-inline in c:\\users\\mrhea\\miniconda3\\lib\\site-packages (from IPython>=3.2.3->alphalens==0.3.2->-r requirements.txt (line 1)) (0.1.6)\n",
      "Requirement already satisfied: pickleshare in c:\\users\\mrhea\\miniconda3\\lib\\site-packages (from IPython>=3.2.3->alphalens==0.3.2->-r requirements.txt (line 1)) (0.7.5)\n",
      "Requirement already satisfied: pygments>=2.4.0 in c:\\users\\mrhea\\miniconda3\\lib\\site-packages (from IPython>=3.2.3->alphalens==0.3.2->-r requirements.txt (line 1)) (2.13.0)\n",
      "Requirement already satisfied: decorator in c:\\users\\mrhea\\miniconda3\\lib\\site-packages (from IPython>=3.2.3->alphalens==0.3.2->-r requirements.txt (line 1)) (5.1.1)\n",
      "Requirement already satisfied: prompt-toolkit<3.1.0,>=3.0.11 in c:\\users\\mrhea\\miniconda3\\lib\\site-packages (from IPython>=3.2.3->alphalens==0.3.2->-r requirements.txt (line 1)) (3.0.36)\n",
      "Requirement already satisfied: traitlets>=5 in c:\\users\\mrhea\\miniconda3\\lib\\site-packages (from IPython>=3.2.3->alphalens==0.3.2->-r requirements.txt (line 1)) (5.8.0)\n",
      "Requirement already satisfied: parso<0.9.0,>=0.8.0 in c:\\users\\mrhea\\miniconda3\\lib\\site-packages (from jedi>=0.16->IPython>=3.2.3->alphalens==0.3.2->-r requirements.txt (line 1)) (0.8.3)\n",
      "Requirement already satisfied: packaging>=20.0 in c:\\users\\mrhea\\miniconda3\\lib\\site-packages (from matplotlib>=1.4.0->alphalens==0.3.2->-r requirements.txt (line 1)) (22.0)\n",
      "Requirement already satisfied: pyparsing>=2.2.1 in c:\\users\\mrhea\\miniconda3\\lib\\site-packages (from matplotlib>=1.4.0->alphalens==0.3.2->-r requirements.txt (line 1)) (3.0.9)\n",
      "Collecting pillow>=6.2.0\n",
      "  Using cached Pillow-9.3.0-cp39-cp39-win_amd64.whl (2.5 MB)\n",
      "Collecting fonttools>=4.22.0\n",
      "  Using cached fonttools-4.38.0-py3-none-any.whl (965 kB)\n",
      "Collecting kiwisolver>=1.0.1\n",
      "  Using cached kiwisolver-1.4.4-cp39-cp39-win_amd64.whl (55 kB)\n",
      "Collecting contourpy>=1.0.1\n",
      "  Using cached contourpy-1.0.6-cp39-cp39-win_amd64.whl (161 kB)\n",
      "Collecting cycler>=0.10\n",
      "  Using cached cycler-0.11.0-py3-none-any.whl (6.4 kB)\n",
      "Requirement already satisfied: python-dateutil>=2.7 in c:\\users\\mrhea\\miniconda3\\lib\\site-packages (from matplotlib>=1.4.0->alphalens==0.3.2->-r requirements.txt (line 1)) (2.8.2)\n",
      "Requirement already satisfied: pytz>=2020.1 in c:\\users\\mrhea\\miniconda3\\lib\\site-packages (from pandas>=0.18.0->alphalens==0.3.2->-r requirements.txt (line 1)) (2022.7)\n",
      "Requirement already satisfied: wcwidth in c:\\users\\mrhea\\miniconda3\\lib\\site-packages (from prompt-toolkit<3.1.0,>=3.0.11->IPython>=3.2.3->alphalens==0.3.2->-r requirements.txt (line 1)) (0.2.5)\n",
      "Collecting patsy>=0.5.2\n",
      "  Using cached patsy-0.5.3-py2.py3-none-any.whl (233 kB)\n",
      "Requirement already satisfied: asttokens>=2.1.0 in c:\\users\\mrhea\\miniconda3\\lib\\site-packages (from stack-data->IPython>=3.2.3->alphalens==0.3.2->-r requirements.txt (line 1)) (2.2.1)\n",
      "Requirement already satisfied: executing>=1.2.0 in c:\\users\\mrhea\\miniconda3\\lib\\site-packages (from stack-data->IPython>=3.2.3->alphalens==0.3.2->-r requirements.txt (line 1)) (1.2.0)\n",
      "Requirement already satisfied: pure-eval in c:\\users\\mrhea\\miniconda3\\lib\\site-packages (from stack-data->IPython>=3.2.3->alphalens==0.3.2->-r requirements.txt (line 1)) (0.2.2)\n",
      "Building wheels for collected packages: ratelimit\n",
      "  Building wheel for ratelimit (setup.py): started\n",
      "  Building wheel for ratelimit (setup.py): finished with status 'done'\n",
      "  Created wheel for ratelimit: filename=ratelimit-2.2.1-py3-none-any.whl size=5908 sha256=8f7c0b8573e6a29ae8ec1aebf0c0d96faeaa2dd9880506c61c4f2a56eb149587\n",
      "  Stored in directory: c:\\users\\mrhea\\appdata\\local\\pip\\cache\\wheels\\14\\1e\\97\\126009a0884bdf7e26436cace73d9a4f4596dada4fdc4950ce\n",
      "Successfully built ratelimit\n",
      "Installing collected packages: six, numpy, pillow, kiwisolver, fonttools, cycler, contourpy, scipy, patsy, pandas, matplotlib, tqdm, threadpoolctl, statsmodels, seaborn, regex, joblib, click, scikit-learn, requests, ratelimit, nltk, alphalens\n",
      "  Attempting uninstall: six\n",
      "    Found existing installation: six 1.11.0\n",
      "    Uninstalling six-1.11.0:\n",
      "      Successfully uninstalled six-1.11.0\n",
      "  Attempting uninstall: tqdm\n",
      "    Found existing installation: tqdm 4.63.0\n",
      "    Uninstalling tqdm-4.63.0:\n",
      "      Successfully uninstalled tqdm-4.63.0\n",
      "  Attempting uninstall: requests\n",
      "    Found existing installation: requests 2.27.1\n",
      "    Uninstalling requests-2.27.1:\n",
      "      Successfully uninstalled requests-2.27.1\n",
      "Successfully installed alphalens-0.3.2 click-8.1.3 contourpy-1.0.6 cycler-0.11.0 fonttools-4.38.0 joblib-1.2.0 kiwisolver-1.4.4 matplotlib-3.6.2 nltk-3.8 numpy-1.24.0 pandas-1.5.2 patsy-0.5.3 pillow-9.3.0 ratelimit-2.2.1 regex-2022.10.31 requests-2.28.1 scikit-learn-1.2.0 scipy-1.9.3 seaborn-0.12.1 six-1.16.0 statsmodels-0.13.5 threadpoolctl-3.1.0 tqdm-4.64.1\n"
     ]
    }
   ],
   "source": [
    "import sys\n",
    "!{sys.executable} -m pip install -r requirements.txt"
   ]
  },
  {
   "attachments": {},
   "cell_type": "markdown",
   "metadata": {},
   "source": [
    "Import all the stuff we just installed from Cell one "
   ]
  },
  {
   "cell_type": "code",
   "execution_count": 8,
   "metadata": {},
   "outputs": [],
   "source": [
    "import nltk\n",
    "import numpy as np\n",
    "import pandas as pd\n",
    "import pickle\n",
    "import pprint\n",
    "import project_helper\n",
    "import project_tests\n",
    "\n",
    "from tqdm import tqdm"
   ]
  }
 ],
 "metadata": {
  "kernelspec": {
   "display_name": "base",
   "language": "python",
   "name": "python3"
  },
  "language_info": {
   "codemirror_mode": {
    "name": "ipython",
    "version": 3
   },
   "file_extension": ".py",
   "mimetype": "text/x-python",
   "name": "python",
   "nbconvert_exporter": "python",
   "pygments_lexer": "ipython3",
   "version": "3.9.12"
  },
  "orig_nbformat": 4,
  "vscode": {
   "interpreter": {
    "hash": "5b871a3ce7614c1af4ac0f6f3038671765b55e870e6ea7410304e5d31d25c1a0"
   }
  }
 },
 "nbformat": 4,
 "nbformat_minor": 2
}
